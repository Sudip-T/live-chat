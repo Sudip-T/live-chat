{
 "cells": [
  {
   "cell_type": "code",
   "execution_count": 4,
   "id": "0ceabd33",
   "metadata": {},
   "outputs": [],
   "source": [
    "import requests\n",
    "import pandas as pd\n",
    "from bs4 import BeautifulSoup as bs"
   ]
  },
  {
   "cell_type": "code",
   "execution_count": 5,
   "id": "9e49e320",
   "metadata": {},
   "outputs": [],
   "source": [
    "url = 'https://www.nepalyp.com/browse-business-directory'\n",
    "response = requests.get(url)\n",
    "soup = bs(response.content, 'html.parser')"
   ]
  },
  {
   "cell_type": "code",
   "execution_count": 6,
   "id": "95ed9d6b",
   "metadata": {},
   "outputs": [
    {
     "name": "stdout",
     "output_type": "stream",
     "text": [
      "Total Business data found : 78561\n"
     ]
    }
   ],
   "source": [
    "content = soup.find('main')\n",
    "\n",
    "category_data = []\n",
    "record_count = 0\n",
    "\n",
    "for category in content.find_all('h2', class_='cath2'):\n",
    "    category_name = category.text.strip()\n",
    "    subcategories = []\n",
    "    for li in category.find_next_sibling('ul', class_='cat_list').find_all('li'):\n",
    "        subcategory_name = [subcategory.strip() for subcategory in li.get_text(separator='\\n').split('\\n') if subcategory.strip()][0]\n",
    "        subcategory_count = li.span.text.strip()\n",
    "        subcategory_count = int(subcategory_count.replace(',', ''))\n",
    "        record_count += int(subcategory_count)\n",
    "        subcategories.append({'name': subcategory_name})\n",
    "    category_data.append({'category': category_name, 'subcategories': subcategories})\n",
    "    \n",
    "print(f'Total Business data found : {record_count}')"
   ]
  },
  {
   "cell_type": "code",
   "execution_count": 7,
   "id": "a948ff19",
   "metadata": {},
   "outputs": [],
   "source": [
    "import json\n",
    "with open('category_data.json', 'w') as json_file:\n",
    "    json.dump(category_data, json_file, indent=4)"
   ]
  },
  {
   "cell_type": "code",
   "execution_count": 8,
   "id": "9a351b2e",
   "metadata": {},
   "outputs": [
    {
     "name": "stdout",
     "output_type": "stream",
     "text": [
      "Data saved successfully to category_data.json\n"
     ]
    }
   ],
   "source": [
    "import json\n",
    "\n",
    "json_data = {}\n",
    "for category in category_data:\n",
    "    category_name = category['category']\n",
    "    subcategory_names = [subcategory['name'] for subcategory in category['subcategories']]\n",
    "    json_data[category_name] = subcategory_names\n",
    "\n",
    "# Save the data to a JSON file\n",
    "with open('category_data_2.json', 'w', encoding='utf-8') as file:\n",
    "    json.dump(json_data, file, ensure_ascii=False, indent=4)\n",
    "\n",
    "print(\"Data saved successfully to category_data.json\")"
   ]
  },
  {
   "cell_type": "code",
   "execution_count": null,
   "id": "f9d2c728",
   "metadata": {},
   "outputs": [],
   "source": []
  },
  {
   "cell_type": "code",
   "execution_count": null,
   "id": "9c075eeb",
   "metadata": {},
   "outputs": [],
   "source": []
  }
 ],
 "metadata": {
  "kernelspec": {
   "display_name": "Python 3 (ipykernel)",
   "language": "python",
   "name": "python3"
  },
  "language_info": {
   "codemirror_mode": {
    "name": "ipython",
    "version": 3
   },
   "file_extension": ".py",
   "mimetype": "text/x-python",
   "name": "python",
   "nbconvert_exporter": "python",
   "pygments_lexer": "ipython3",
   "version": "3.11.5"
  }
 },
 "nbformat": 4,
 "nbformat_minor": 5
}
